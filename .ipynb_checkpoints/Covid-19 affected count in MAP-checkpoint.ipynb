{
 "cells": [
  {
   "cell_type": "markdown",
   "metadata": {},
   "source": [
    "###\n",
    "Importing the necessary libraries for the project\n",
    "Folium = To show the map\n",
    "Pandas = To fit the dataset into a dataframe for ease\n",
    "Tabula & Camelot = To read the pdf dataset {Tabula Need Java8+ installed on the pc } {Both of their function is same while camelot can give extra benifit in case of any utf-8 errors occur}\n",
    "Geopy,Nominatim = For fetching the geo location codes i.e Coordinates of the Locations\n",
    "###"
   ]
  },
  {
   "cell_type": "code",
   "execution_count": 1,
   "metadata": {},
   "outputs": [],
   "source": [
    "import folium\n",
    "import pandas as pd\n",
    "import tabula\n",
    "from geopy.geocoders import Nominatim\n",
    "nom=Nominatim(user_agent=\"Covid-19 affected count in MAP\", scheme=\"http\",timeout = 5)"
   ]
  },
  {
   "cell_type": "markdown",
   "metadata": {},
   "source": [
    "###\n",
    "Converting the pdf into two csv files, one for the whole country's affected count district-wise \n",
    "and the other one is for only Dhaka's affected count area-wise\n",
    "Here I used camelot to read the first table of the first page, tabula for the second page. This is just for exploring multiple functions.\n",
    "###"
   ]
  },
  {
   "cell_type": "code",
   "execution_count": 3,
   "metadata": {
    "collapsed": true
   },
   "outputs": [
    {
     "name": "stderr",
     "output_type": "stream",
     "text": [
      "Got stderr: Apr 25, 2020 4:00:03 AM org.apache.pdfbox.pdmodel.font.PDCIDFontType2 <init>\r\n",
      "INFO: OpenType Layout tables used in font ABCDEE+Calibri are not implemented in PDFBox and will be ignored\r\n",
      "Apr 25, 2020 4:00:04 AM org.apache.pdfbox.pdmodel.font.PDCIDFontType2 <init>\r\n",
      "INFO: OpenType Layout tables used in font ABCDEE+Calibri are not implemented in PDFBox and will be ignored\r\n",
      "Apr 25, 2020 4:00:04 AM org.apache.pdfbox.pdmodel.font.PDCIDFontType2 <init>\r\n",
      "INFO: OpenType Layout tables used in font ABCDEE+Calibri are not implemented in PDFBox and will be ignored\r\n",
      "Apr 25, 2020 4:00:05 AM org.apache.pdfbox.pdmodel.font.PDCIDFontType2 <init>\r\n",
      "INFO: OpenType Layout tables used in font ABCDEE+Calibri are not implemented in PDFBox and will be ignored\r\n",
      "Apr 25, 2020 4:00:05 AM org.apache.pdfbox.pdmodel.font.PDCIDFontType2 <init>\r\n",
      "INFO: OpenType Layout tables used in font ABCDEE+Calibri are not implemented in PDFBox and will be ignored\r\n",
      "Apr 25, 2020 4:00:05 AM org.apache.pdfbox.pdmodel.font.PDCIDFontType2 <init>\r\n",
      "INFO: OpenType Layout tables used in font ABCDEE+Calibri are not implemented in PDFBox and will be ignored\r\n",
      "\n"
     ]
    },
    {
     "ename": "NameError",
     "evalue": "name 'camelot' is not defined",
     "output_type": "error",
     "traceback": [
      "\u001b[1;31m---------------------------------------------------------------------------\u001b[0m",
      "\u001b[1;31mNameError\u001b[0m                                 Traceback (most recent call last)",
      "\u001b[1;32m<ipython-input-3-e69a8423849b>\u001b[0m in \u001b[0;36m<module>\u001b[1;34m\u001b[0m\n\u001b[0;32m      1\u001b[0m \u001b[0mfile\u001b[0m  \u001b[1;33m=\u001b[0m \u001b[1;34m\"https://www.iedcr.gov.bd/website/images/files/nCoV/Case_distribution_24_April_update.pdf\"\u001b[0m\u001b[1;33m\u001b[0m\u001b[1;33m\u001b[0m\u001b[0m\n\u001b[0;32m      2\u001b[0m \u001b[0mtables\u001b[0m \u001b[1;33m=\u001b[0m \u001b[0mtabula\u001b[0m\u001b[1;33m.\u001b[0m\u001b[0mread_pdf\u001b[0m\u001b[1;33m(\u001b[0m\u001b[0mfile\u001b[0m\u001b[1;33m,\u001b[0m \u001b[0mpages\u001b[0m \u001b[1;33m=\u001b[0m \u001b[1;34m\"all\"\u001b[0m\u001b[1;33m,\u001b[0m \u001b[0mmultiple_tables\u001b[0m \u001b[1;33m=\u001b[0m \u001b[1;32mTrue\u001b[0m\u001b[1;33m)\u001b[0m\u001b[1;33m\u001b[0m\u001b[1;33m\u001b[0m\u001b[0m\n\u001b[1;32m----> 3\u001b[1;33m \u001b[0mtables\u001b[0m \u001b[1;33m=\u001b[0m \u001b[0mcamelot\u001b[0m\u001b[1;33m.\u001b[0m\u001b[0mread_pdf\u001b[0m\u001b[1;33m(\u001b[0m\u001b[0mfile\u001b[0m\u001b[1;33m,\u001b[0m \u001b[0mpages\u001b[0m \u001b[1;33m=\u001b[0m \u001b[1;34m\"1\"\u001b[0m\u001b[1;33m)\u001b[0m\u001b[1;33m\u001b[0m\u001b[1;33m\u001b[0m\u001b[0m\n\u001b[0m\u001b[0;32m      4\u001b[0m \u001b[0mtables\u001b[0m\u001b[1;33m[\u001b[0m\u001b[1;36m0\u001b[0m\u001b[1;33m]\u001b[0m\u001b[1;33m.\u001b[0m\u001b[0mto_csv\u001b[0m\u001b[1;33m(\u001b[0m\u001b[1;34m\"Country_Count.csv\"\u001b[0m\u001b[1;33m)\u001b[0m\u001b[1;33m\u001b[0m\u001b[1;33m\u001b[0m\u001b[0m\n\u001b[0;32m      5\u001b[0m \u001b[0mtabula\u001b[0m\u001b[1;33m.\u001b[0m\u001b[0mconvert_into\u001b[0m\u001b[1;33m(\u001b[0m\u001b[0mfile\u001b[0m\u001b[1;33m,\u001b[0m \u001b[1;34m\"Dhaka_Count.csv\"\u001b[0m\u001b[1;33m,\u001b[0m \u001b[0mpages\u001b[0m \u001b[1;33m=\u001b[0m \u001b[1;34m'2'\u001b[0m\u001b[1;33m)\u001b[0m\u001b[1;33m\u001b[0m\u001b[1;33m\u001b[0m\u001b[0m\n",
      "\u001b[1;31mNameError\u001b[0m: name 'camelot' is not defined"
     ]
    }
   ],
   "source": [
    "file  = \"https://www.iedcr.gov.bd/website/images/files/nCoV/Case_dist_29_april_update_last.pdf\"\n",
    "tables = tabula.read_pdf(file, pages = \"all\", multiple_tables = True)\n",
    "tables = camelot.read_pdf(file, pages = \"1\")\n",
    "tables[0].to_csv(\"Country_Count.csv\")\n",
    "tabula.convert_into(file, \"Dhaka_Count.csv\", pages = '2')"
   ]
  },
  {
   "cell_type": "markdown",
   "metadata": {},
   "source": [
    "###\n",
    "Starting to clean up the dataset, first we import it and use pandas dataframe to read the csv file.\n",
    "Then I dropped the unnecessary coloumns.\n",
    "Afterwards, I added \"Bangladesh\" after each location so that it becomes easier to find the location's coordinates\n",
    "###"
   ]
  },
  {
   "cell_type": "code",
   "execution_count": 4,
   "metadata": {},
   "outputs": [],
   "source": [
    "country_count = pd.read_csv(\"Country_Count.csv\")\n",
    "country_count=country_count.drop([\"Division\",\"Division.1\",\"%\"],1)\n",
    "country_count[\"District/City\"] = country_count[\"District/City\"] + \",\" + \"Bangladesh\""
   ]
  },
  {
   "cell_type": "markdown",
   "metadata": {
    "collapsed": true
   },
   "source": [
    "###\n",
    "Now, I fetched the coordinates of the districts using nominatim library from server and added it to an extra column named \"Coordinates\"\n",
    "###"
   ]
  },
  {
   "cell_type": "code",
   "execution_count": 5,
   "metadata": {},
   "outputs": [],
   "source": [
    "country_count[\"Coordinates\"] = country_count[\"District/City\"].apply(nom.geocode)"
   ]
  },
  {
   "cell_type": "markdown",
   "metadata": {},
   "source": [
    "###\n",
    "After that, I dropped the columns that nominatim failed to fetch the coordinates to clean the dataset. \n",
    "Then I fetched the Latitudes and Longitudes of the districts from the coordinates and add them in separate columns.\n",
    "###"
   ]
  },
  {
   "cell_type": "code",
   "execution_count": 6,
   "metadata": {},
   "outputs": [],
   "source": [
    "country_count=country_count.dropna()\n",
    "country_count[\"Latitude\"] = country_count[\"Coordinates\"].apply(lambda x: x.latitude)\n",
    "country_count[\"Longitude\"] = country_count[\"Coordinates\"].apply(lambda x: x.longitude)"
   ]
  },
  {
   "cell_type": "markdown",
   "metadata": {},
   "source": [
    "###\n",
    "Finally, I plotted the map with folium. First I created some necessary variables containing the latitude,longitude and total affected numbers.\n",
    "Then I created an object of folium's map class with a base location. In this case, the base location is Bangladesh's coordinates.\n",
    "I passed 3 variables in a for loop. The lat, lon and the total number of affected.\n",
    "Then I have used a feature of folium which is circle marker to mark the locations in the map. \n",
    "Inside the marker function, I added the feature 'popup' to show the number of the affected on click. \n",
    "For convinience, I created a feature group and then added the features as a child of this group.\n",
    "After that, I added the feature group to the map object of folium and then saved the map.\n",
    "###"
   ]
  },
  {
   "cell_type": "code",
   "execution_count": 14,
   "metadata": {},
   "outputs": [],
   "source": [
    "lat_country = list(country_count[\"Latitude\"])\n",
    "lon_country = list(country_count[\"Longitude\"])\n",
    "total_country = list(country_count[\"Total\"])\n",
    "Map = folium.Map(location =[23.6850,90.3563],zoom_start = 7)\n",
    "f_group_country = folium.FeatureGroup(name=\"Country Count\")\n",
    "for lt,ln,total in zip(lat_country,lon_country,total_country):\n",
    "    f_group_country.add_child(folium.CircleMarker(location = [lt,ln], popup=\"Affected: \"+str(total_country),radius=8, fill_color='red',color='grey',fill_opacity=1))\n",
    "\n"
   ]
  },
  {
   "cell_type": "markdown",
   "metadata": {},
   "source": [
    "##\n",
    "Following is the code for dhaka_count. It is almost same, with some little differences.\n",
    "##"
   ]
  },
  {
   "cell_type": "code",
   "execution_count": 8,
   "metadata": {},
   "outputs": [],
   "source": [
    "dhaka_count = pd.read_csv(\"Dhaka_Count.csv\")\n",
    "dhaka_count[\"Location\"] = dhaka_count[\"Location\"] + \",\" + \"Dhaka\"+ \",\" + \"Bangladesh\""
   ]
  },
  {
   "cell_type": "code",
   "execution_count": 9,
   "metadata": {},
   "outputs": [],
   "source": [
    "dhaka_count[\"Coordinates\"] = dhaka_count[\"Location\"].apply(nom.geocode)"
   ]
  },
  {
   "cell_type": "code",
   "execution_count": 10,
   "metadata": {},
   "outputs": [],
   "source": [
    "dhaka_count = dhaka_count.dropna()\n",
    "dhaka_count[\"Latitude\"] = dhaka_count[\"Coordinates\"].apply(lambda x: x.latitude)\n",
    "dhaka_count[\"Longitude\"] = dhaka_count[\"Coordinates\"].apply(lambda x: x.longitude)"
   ]
  },
  {
   "cell_type": "markdown",
   "metadata": {},
   "source": [
    "###\n",
    "This is almost same as the previous function mentioned above for the country's count. Only difference is that I added the two features in different feature group and here the base map is only Dhaka's map.\n",
    "So that I can add them in a layer control of folium. Thus we can switch between the options.\n",
    "###"
   ]
  },
  {
   "cell_type": "code",
   "execution_count": 15,
   "metadata": {},
   "outputs": [],
   "source": [
    "lat_dhaka = list(dhaka_count[\"Latitude\"])\n",
    "lon_dhaka = list(dhaka_count[\"Longitude\"])\n",
    "total_dhaka = list(dhaka_count[\"Total\"])\n",
    "f_group_dhaka = folium.FeatureGroup(name=\"Dhaka Count\")\n",
    "for lt_dhaka,ln_dhaka,total_dhaka in zip(lat_dhaka,lon_dhaka,total_dhaka):\n",
    "    f_group_dhaka.add_child(folium.CircleMarker(location = [lt_dhaka,ln_dhaka], popup=\"Affected: \"+str(total_dhaka),radius=10, fill_color='red',color='grey',fill_opacity=1))\n",
    "\n",
    "Map.add_child(f_group_country)\n",
    "Map.add_child(f_group_dhaka)\n",
    "Map.add_child(folium.LayerControl())\n",
    "Map.save(\"Corona affected count Map for Bangladesh.html\")"
   ]
  },
  {
   "cell_type": "markdown",
   "metadata": {},
   "source": [
    "Backup code in case any malfunction occurs while fetching the coordinates[except timeout]:\n",
    "    Sometimes there can be error while finding some locations with geopy. To see which particular location is causing the error, I wrote this loop with try-except which will find the coordinates one by one unlike the method that I used above. And if there is any error, you can find exactly which location it is failing to fetch.\n",
    "    \n",
    "###Backup code\n",
    "\n",
    "for address in country_count[\"District/City\"]:\n",
    "    try:\n",
    "        gcode=nom.geocode(str(address))\n",
    "        print(\"Latitude of the %s is: \" %address, gcode.latitude)\n",
    "    except:\n",
    "        print(\"I can't find the coordinates of %s\" %address)"
   ]
  },
  {
   "cell_type": "code",
   "execution_count": null,
   "metadata": {},
   "outputs": [],
   "source": []
  }
 ],
 "metadata": {
  "kernelspec": {
   "display_name": "Python 3",
   "language": "python",
   "name": "python3"
  },
  "language_info": {
   "codemirror_mode": {
    "name": "ipython",
    "version": 3
   },
   "file_extension": ".py",
   "mimetype": "text/x-python",
   "name": "python",
   "nbconvert_exporter": "python",
   "pygments_lexer": "ipython3",
   "version": "3.6.8"
  }
 },
 "nbformat": 4,
 "nbformat_minor": 4
}
